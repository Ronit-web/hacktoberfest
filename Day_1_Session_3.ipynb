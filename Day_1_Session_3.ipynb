{
  "cells": [
    {
      "cell_type": "markdown",
      "metadata": {
        "colab_type": "text",
        "id": "nsJPnYaGwUZp"
      },
      "source": [
        "# print()"
      ]
    },
    {
      "cell_type": "code",
      "execution_count": 1,
      "metadata": {
        "colab": {
          "base_uri": "https://localhost:8080/",
          "height": 35
        },
        "colab_type": "code",
        "id": "IK6-_PN7hS3a",
        "outputId": "9ad0c304-687d-4df7-aceb-715314e80017"
      },
      "outputs": [
        {
          "name": "stdout",
          "output_type": "stream",
          "text": [
            "Hello! Welcome to the course\n"
          ]
        }
      ],
      "source": [
        "# hello world!\n",
        "\n",
        "print(\"Hello! Welcome to the course\")"
      ]
    },
    {
      "cell_type": "code",
      "execution_count": 2,
      "metadata": {
        "colab": {
          "base_uri": "https://localhost:8080/",
          "height": 35
        },
        "colab_type": "code",
        "id": "eXJsvwmEhhBH",
        "outputId": "92e86d6b-2736-4067-ca00-00c7317c226f"
      },
      "outputs": [
        {
          "name": "stdout",
          "output_type": "stream",
          "text": [
            "hello Universe!\n"
          ]
        }
      ],
      "source": [
        "# comments in python vjbjvfjbdfjb\n",
        "\n",
        "# print(\"Hello World!\") \n",
        "print(\"hello Universe!\")"
      ]
    },
    {
      "cell_type": "code",
      "execution_count": 3,
      "metadata": {
        "colab": {
          "base_uri": "https://localhost:8080/",
          "height": 35
        },
        "colab_type": "code",
        "id": "KaigmgiYiWyn",
        "outputId": "1c0c13da-b8e5-44dd-e505-e274a3919e4f"
      },
      "outputs": [
        {
          "name": "stdout",
          "output_type": "stream",
          "text": [
            "This line\n"
          ]
        }
      ],
      "source": [
        "'''\n",
        "print(\"This\")\n",
        "print(\"is\")\n",
        "print(\"how we give multi-line comment\")\n",
        "5 + 3\n",
        "I am here\n",
        "'''\n",
        "print('This line')"
      ]
    },
    {
      "cell_type": "code",
      "execution_count": 5,
      "metadata": {
        "colab": {
          "base_uri": "https://localhost:8080/",
          "height": 135
        },
        "colab_type": "code",
        "id": "TfvK4W9yh0oc",
        "outputId": "c0bf4fd1-a705-4deb-9922-7f9bf89d000d"
      },
      "outputs": [
        {
          "name": "stdout",
          "output_type": "stream",
          "text": [
            "abcd\n",
            "efgh\n"
          ]
        }
      ],
      "source": [
        "# indentation in python\n",
        "\n",
        "print(\"abcd\")\n",
        "  print(\"efgh\")"
      ]
    },
    {
      "cell_type": "code",
      "execution_count": null,
      "metadata": {
        "colab": {
          "base_uri": "https://localhost:8080/",
          "height": 54
        },
        "colab_type": "code",
        "id": "XZyvsczdh2jl",
        "outputId": "af0bc4ec-dc6b-4a07-df55-ce72a5b8e38b"
      },
      "outputs": [],
      "source": [
        "# indentation\n",
        "\n",
        "print(\"abcd\")\n",
        "print(\"efgh\")"
      ]
    },
    {
      "cell_type": "code",
      "execution_count": null,
      "metadata": {
        "colab": {
          "base_uri": "https://localhost:8080/",
          "height": 35
        },
        "colab_type": "code",
        "id": "0T2G7KUevV5A",
        "outputId": "0e5c1a9c-7fc0-46d1-8b1e-f4bd3827c6a0"
      },
      "outputs": [],
      "source": [
        "# printing more 2 more more strings\n",
        "# print('This is a message I want to print')\n",
        "print('This', 'is', 'a', 'course', \"on\", 'python')"
      ]
    },
    {
      "cell_type": "code",
      "execution_count": null,
      "metadata": {
        "colab": {
          "base_uri": "https://localhost:8080/",
          "height": 35
        },
        "colab_type": "code",
        "id": "T8e2MzzRxHs6",
        "outputId": "995d6534-b8a1-44a0-9776-4de2153db3c7"
      },
      "outputs": [],
      "source": [
        "# Using seperator\n",
        "\n",
        "# print('This', 'is', 'a', 'course', 'on', 'python', sep=' ')\n",
        "\n",
        "print('This', 'is', \"a\", 'course', 'on', 'python', sep='**')"
      ]
    },
    {
      "cell_type": "code",
      "execution_count": null,
      "metadata": {
        "colab": {
          "base_uri": "https://localhost:8080/",
          "height": 54
        },
        "colab_type": "code",
        "id": "I2BQE_EbxmTa",
        "outputId": "a698aeee-0033-48d9-bf7b-c625e076a480"
      },
      "outputs": [],
      "source": [
        "# Using end parameter\n",
        "\n",
        "print('This is a course on python', end='\\n') # it defaults to '\\n'\n",
        "print('Another message')"
      ]
    },
    {
      "cell_type": "code",
      "execution_count": null,
      "metadata": {
        "colab": {
          "base_uri": "https://localhost:8080/",
          "height": 72
        },
        "colab_type": "code",
        "id": "fxW_Oex04UIx",
        "outputId": "e0170391-acc4-4765-b881-a442da91f9f1"
      },
      "outputs": [],
      "source": [
        "print('This is a course on python', end='\\n\\n')\n",
        "print('programming.')"
      ]
    },
    {
      "cell_type": "code",
      "execution_count": 6,
      "metadata": {
        "colab": {
          "base_uri": "https://localhost:8080/",
          "height": 35
        },
        "colab_type": "code",
        "id": "ZBFsku7Z4HIO",
        "outputId": "29d8b98c-4179-4bf8-bae1-bc38495d4cc9"
      },
      "outputs": [
        {
          "name": "stdout",
          "output_type": "stream",
          "text": [
            "This is a course on python     programming.\n"
          ]
        }
      ],
      "source": [
        "print('This is a course on python', end='     ')\n",
        "print('programming.')"
      ]
    },
    {
      "cell_type": "code",
      "execution_count": null,
      "metadata": {
        "colab": {
          "base_uri": "https://localhost:8080/",
          "height": 135
        },
        "colab_type": "code",
        "id": "JJacOthwzjcQ",
        "outputId": "777fb657-68be-4756-9fd0-c8efcd1704f4"
      },
      "outputs": [],
      "source": [
        "# printing string with quotes\n",
        "\n",
        "print('It's a beautiful day')"
      ]
    },
    {
      "cell_type": "code",
      "execution_count": null,
      "metadata": {
        "colab": {
          "base_uri": "https://localhost:8080/",
          "height": 35
        },
        "colab_type": "code",
        "id": "cI51FDW63Kpw",
        "outputId": "33e8dd6c-8683-47c6-a201-5fa0e6073a73"
      },
      "outputs": [],
      "source": []
    },
    {
      "cell_type": "code",
      "execution_count": 7,
      "metadata": {
        "colab": {
          "base_uri": "https://localhost:8080/",
          "height": 35
        },
        "colab_type": "code",
        "id": "TdfQU2xE3WfP",
        "outputId": "66619113-ab0e-4f3f-b537-35c64f229667"
      },
      "outputs": [
        {
          "name": "stdout",
          "output_type": "stream",
          "text": [
            "It is called 'programming'\n"
          ]
        }
      ],
      "source": [
        "print(\"It is called 'programming'\")"
      ]
    },
    {
      "cell_type": "code",
      "execution_count": 8,
      "metadata": {
        "colab": {
          "base_uri": "https://localhost:8080/",
          "height": 35
        },
        "colab_type": "code",
        "id": "L392jDW73fi9",
        "outputId": "0b19454f-ff19-4081-e2d3-28bd8c984570"
      },
      "outputs": [
        {
          "name": "stdout",
          "output_type": "stream",
          "text": [
            "It is called \"programming\"\n"
          ]
        }
      ],
      "source": [
        "print ('It is called \"programming\"')"
      ]
    },
    {
      "cell_type": "code",
      "execution_count": 10,
      "metadata": {
        "colab": {
          "base_uri": "https://localhost:8080/",
          "height": 35
        },
        "colab_type": "code",
        "id": "TSYX-i0L3ufE",
        "outputId": "599fc584-6d7f-45e2-fe03-e06b21a26b77"
      },
      "outputs": [],
      "source": [
        "# print \"It is called 'programming'\"\n"
      ]
    },
    {
      "cell_type": "markdown",
      "metadata": {
        "colab_type": "text",
        "id": "kss9LGN63FrE"
      },
      "source": [
        "# Escape Characters"
      ]
    },
    {
      "cell_type": "code",
      "execution_count": null,
      "metadata": {
        "colab": {
          "base_uri": "https://localhost:8080/",
          "height": 35
        },
        "colab_type": "code",
        "id": "IzT4YCzl4vHS",
        "outputId": "41dc23ac-0287-4f53-e436-f629f57b7ca0"
      },
      "outputs": [],
      "source": [
        "# single quote\n",
        "\n",
        "print('It\\'s a beautiful day..')"
      ]
    },
    {
      "cell_type": "code",
      "execution_count": null,
      "metadata": {
        "colab": {
          "base_uri": "https://localhost:8080/",
          "height": 54
        },
        "colab_type": "code",
        "id": "_5nzLujk3SFa",
        "outputId": "09b68014-47d2-4a5d-940f-f49ff7f68a93"
      },
      "outputs": [],
      "source": [
        "# new line\n",
        "\n",
        "print('Line 1 ends here\\nLine 2 starts here...')"
      ]
    },
    {
      "cell_type": "code",
      "execution_count": null,
      "metadata": {
        "colab": {
          "base_uri": "https://localhost:8080/",
          "height": 35
        },
        "colab_type": "code",
        "id": "bUUyOIcO5nxx",
        "outputId": "279ff509-071e-4947-af39-36b3cfd82db2"
      },
      "outputs": [],
      "source": [
        "# tab\n",
        "\n",
        "print('Phrase 1 ends here\\tPhrase 2 starts here...')"
      ]
    },
    {
      "cell_type": "markdown",
      "metadata": {
        "colab_type": "text",
        "id": "R8k_O4vK6h-K"
      },
      "source": [
        "# Exercise"
      ]
    },
    {
      "cell_type": "code",
      "execution_count": null,
      "metadata": {
        "colab": {
          "base_uri": "https://localhost:8080/",
          "height": 35
        },
        "colab_type": "code",
        "id": "IkGVqiGu8d1H",
        "outputId": "7000da71-6718-4c65-c3aa-de80feb889d1"
      },
      "outputs": [],
      "source": [
        "'''\n",
        "Q1. Display the following text:\n",
        "I am here to learn \\python\\ programming.\n",
        "'''"
      ]
    },
    {
      "cell_type": "code",
      "execution_count": null,
      "metadata": {
        "colab": {},
        "colab_type": "code",
        "id": "HSSfRq7R8gs6"
      },
      "outputs": [],
      "source": [
        "'''\n",
        "Q2. Ask a user to enter his name and then print following message.\n",
        "'Hi user_name, Welcome to this course!'\n",
        "Eg.\n",
        "Input: Sarvesh\n",
        "Output: Hi Sarvesh, Welcome to this course!\n",
        "'''"
      ]
    },
    {
      "cell_type": "code",
      "execution_count": null,
      "metadata": {
        "colab": {
          "base_uri": "https://localhost:8080/",
          "height": 126
        },
        "colab_type": "code",
        "id": "son5Rqkd7kMV",
        "outputId": "aa9aea1f-7b3a-4228-b019-6d749739384a"
      },
      "outputs": [],
      "source": [
        "'''\n",
        "Q3. Use a single print() statement to print the following string in the format shown.\n",
        "\n",
        "Twinkle, twinkle, little star,\n",
        "\tHow I wonder what you are!\n",
        "\t\tUp above the world so high,\n",
        "\t\tLike a diamond in the sky.\n",
        "Twinkle, twinkle, little star,\n",
        "\tHow I wonder what you are!\n",
        "'''"
      ]
    }
  ],
  "metadata": {
    "colab": {
      "collapsed_sections": [],
      "name": "Day-1-Session-3.ipynb",
      "provenance": []
    },
    "kernelspec": {
      "display_name": "Python 3",
      "name": "python3"
    },
    "language_info": {
      "codemirror_mode": {
        "name": "ipython",
        "version": 3
      },
      "file_extension": ".py",
      "mimetype": "text/x-python",
      "name": "python",
      "nbconvert_exporter": "python",
      "pygments_lexer": "ipython3",
      "version": "3.11.5"
    }
  },
  "nbformat": 4,
  "nbformat_minor": 0
}
